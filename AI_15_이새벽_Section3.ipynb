{
 "cells": [
  {
   "cell_type": "code",
   "execution_count": 1,
   "id": "a0674b48-590b-4d0b-849e-36ebc6e52724",
   "metadata": {},
   "outputs": [
    {
     "name": "stdout",
     "output_type": "stream",
     "text": [
      "Requirement already satisfied: category_encoders in c:\\users\\dawn\\.conda\\envs\\hello\\lib\\site-packages (2.5.1.post0)\n",
      "Requirement already satisfied: numpy>=1.14.0 in c:\\users\\dawn\\appdata\\roaming\\python\\python38\\site-packages (from category_encoders) (1.23.4)\n",
      "Requirement already satisfied: pandas>=1.0.5 in c:\\users\\dawn\\.conda\\envs\\hello\\lib\\site-packages (from category_encoders) (1.5.1)\n",
      "Requirement already satisfied: patsy>=0.5.1 in c:\\users\\dawn\\.conda\\envs\\hello\\lib\\site-packages (from category_encoders) (0.5.3)\n",
      "Requirement already satisfied: scipy>=1.0.0 in c:\\users\\dawn\\appdata\\roaming\\python\\python38\\site-packages (from category_encoders) (1.9.3)\n",
      "Requirement already satisfied: scikit-learn>=0.20.0 in c:\\users\\dawn\\appdata\\roaming\\python\\python38\\site-packages (from category_encoders) (1.1.3)\n",
      "Requirement already satisfied: statsmodels>=0.9.0 in c:\\users\\dawn\\.conda\\envs\\hello\\lib\\site-packages (from category_encoders) (0.13.2)\n",
      "Requirement already satisfied: python-dateutil>=2.8.1 in c:\\users\\dawn\\.conda\\envs\\hello\\lib\\site-packages (from pandas>=1.0.5->category_encoders) (2.8.2)\n",
      "Requirement already satisfied: pytz>=2020.1 in c:\\users\\dawn\\.conda\\envs\\hello\\lib\\site-packages (from pandas>=1.0.5->category_encoders) (2022.5)\n",
      "Requirement already satisfied: six in c:\\users\\dawn\\.conda\\envs\\hello\\lib\\site-packages (from patsy>=0.5.1->category_encoders) (1.16.0)\n",
      "Requirement already satisfied: joblib>=1.0.0 in c:\\users\\dawn\\appdata\\roaming\\python\\python38\\site-packages (from scikit-learn>=0.20.0->category_encoders) (1.2.0)\n",
      "Requirement already satisfied: threadpoolctl>=2.0.0 in c:\\users\\dawn\\appdata\\roaming\\python\\python38\\site-packages (from scikit-learn>=0.20.0->category_encoders) (3.1.0)\n",
      "Requirement already satisfied: packaging>=21.3 in c:\\users\\dawn\\.conda\\envs\\hello\\lib\\site-packages (from statsmodels>=0.9.0->category_encoders) (21.3)\n",
      "Requirement already satisfied: pyparsing!=3.0.5,>=2.0.2 in c:\\users\\dawn\\.conda\\envs\\hello\\lib\\site-packages (from packaging>=21.3->statsmodels>=0.9.0->category_encoders) (3.0.9)\n",
      "Requirement already satisfied: xgboost in c:\\users\\dawn\\.conda\\envs\\hello\\lib\\site-packages (1.6.2)\n",
      "Requirement already satisfied: scipy in c:\\users\\dawn\\appdata\\roaming\\python\\python38\\site-packages (from xgboost) (1.9.3)\n",
      "Requirement already satisfied: numpy in c:\\users\\dawn\\appdata\\roaming\\python\\python38\\site-packages (from xgboost) (1.23.4)\n"
     ]
    }
   ],
   "source": [
    "!pip install category_encoders\n",
    "\n",
    "!pip install xgboost\n",
    "\n",
    "# 라이브러리\n",
    "\n",
    "import numpy as np\n",
    "import pandas as pd\n",
    "import matplotlib.pyplot as plt\n",
    "import seaborn as sns\n",
    "from sklearn.preprocessing import StandardScaler\n",
    "from sklearn.svm import SVC\n",
    "from sklearn.pipeline import Pipeline\n",
    "from sklearn.metrics import accuracy_score\n",
    "from sklearn.pipeline import make_pipeline\n",
    "from sklearn.impute import SimpleImputer\n",
    "from category_encoders import OrdinalEncoder\n",
    "from sklearn.model_selection import train_test_split\n",
    "from sklearn.preprocessing import LabelEncoder \n",
    "from sklearn.ensemble import RandomForestClassifier\n",
    "from sklearn.model_selection import cross_val_score\n",
    "from sklearn.metrics import roc_auc_score\n",
    "import xgboost as xgb"
   ]
  },
  {
   "cell_type": "code",
   "execution_count": 2,
   "id": "87630de1-99f0-4d17-92bb-7ac8ebc1763d",
   "metadata": {},
   "outputs": [],
   "source": [
    "seoul = pd.read_csv(\"seoul.csv\")\n",
    "seoul_park = pd.read_csv(\"seoul_park.csv\")"
   ]
  },
  {
   "cell_type": "code",
   "execution_count": 3,
   "id": "4584c666-37a1-4fd1-ac06-a709abb2163d",
   "metadata": {},
   "outputs": [
    {
     "data": {
      "text/html": [
       "<div>\n",
       "<style scoped>\n",
       "    .dataframe tbody tr th:only-of-type {\n",
       "        vertical-align: middle;\n",
       "    }\n",
       "\n",
       "    .dataframe tbody tr th {\n",
       "        vertical-align: top;\n",
       "    }\n",
       "\n",
       "    .dataframe thead th {\n",
       "        text-align: right;\n",
       "    }\n",
       "</style>\n",
       "<table border=\"1\" class=\"dataframe\">\n",
       "  <thead>\n",
       "    <tr style=\"text-align: right;\">\n",
       "      <th></th>\n",
       "      <th>date</th>\n",
       "      <th>day</th>\n",
       "      <th>pay</th>\n",
       "      <th>free</th>\n",
       "      <th>daily_total</th>\n",
       "      <th>Unnamed: 5</th>\n",
       "    </tr>\n",
       "  </thead>\n",
       "  <tbody>\n",
       "    <tr>\n",
       "      <th>0</th>\n",
       "      <td>2018-01-01</td>\n",
       "      <td>월</td>\n",
       "      <td>1688</td>\n",
       "      <td>628</td>\n",
       "      <td>2316</td>\n",
       "      <td>NaN</td>\n",
       "    </tr>\n",
       "    <tr>\n",
       "      <th>1</th>\n",
       "      <td>2018-01-02</td>\n",
       "      <td>화</td>\n",
       "      <td>403</td>\n",
       "      <td>585</td>\n",
       "      <td>988</td>\n",
       "      <td>NaN</td>\n",
       "    </tr>\n",
       "    <tr>\n",
       "      <th>2</th>\n",
       "      <td>2018-01-03</td>\n",
       "      <td>수</td>\n",
       "      <td>192</td>\n",
       "      <td>502</td>\n",
       "      <td>694</td>\n",
       "      <td>NaN</td>\n",
       "    </tr>\n",
       "    <tr>\n",
       "      <th>3</th>\n",
       "      <td>2018-01-04</td>\n",
       "      <td>목</td>\n",
       "      <td>165</td>\n",
       "      <td>506</td>\n",
       "      <td>671</td>\n",
       "      <td>NaN</td>\n",
       "    </tr>\n",
       "    <tr>\n",
       "      <th>4</th>\n",
       "      <td>2018-01-05</td>\n",
       "      <td>금</td>\n",
       "      <td>189</td>\n",
       "      <td>569</td>\n",
       "      <td>758</td>\n",
       "      <td>NaN</td>\n",
       "    </tr>\n",
       "    <tr>\n",
       "      <th>...</th>\n",
       "      <td>...</td>\n",
       "      <td>...</td>\n",
       "      <td>...</td>\n",
       "      <td>...</td>\n",
       "      <td>...</td>\n",
       "      <td>...</td>\n",
       "    </tr>\n",
       "    <tr>\n",
       "      <th>1637</th>\n",
       "      <td>2022-06-26</td>\n",
       "      <td>일</td>\n",
       "      <td>18207</td>\n",
       "      <td>622</td>\n",
       "      <td>18829</td>\n",
       "      <td>NaN</td>\n",
       "    </tr>\n",
       "    <tr>\n",
       "      <th>1638</th>\n",
       "      <td>2022-06-27</td>\n",
       "      <td>월</td>\n",
       "      <td>166</td>\n",
       "      <td>293</td>\n",
       "      <td>459</td>\n",
       "      <td>NaN</td>\n",
       "    </tr>\n",
       "    <tr>\n",
       "      <th>1639</th>\n",
       "      <td>2022-06-28</td>\n",
       "      <td>화</td>\n",
       "      <td>140</td>\n",
       "      <td>264</td>\n",
       "      <td>404</td>\n",
       "      <td>NaN</td>\n",
       "    </tr>\n",
       "    <tr>\n",
       "      <th>1640</th>\n",
       "      <td>2022-06-29</td>\n",
       "      <td>수</td>\n",
       "      <td>88</td>\n",
       "      <td>151</td>\n",
       "      <td>239</td>\n",
       "      <td>NaN</td>\n",
       "    </tr>\n",
       "    <tr>\n",
       "      <th>1641</th>\n",
       "      <td>2022-06-30</td>\n",
       "      <td>목</td>\n",
       "      <td>31</td>\n",
       "      <td>77</td>\n",
       "      <td>108</td>\n",
       "      <td>NaN</td>\n",
       "    </tr>\n",
       "  </tbody>\n",
       "</table>\n",
       "<p>1642 rows × 6 columns</p>\n",
       "</div>"
      ],
      "text/plain": [
       "            date day    pay  free  daily_total  Unnamed: 5\n",
       "0     2018-01-01   월   1688   628         2316         NaN\n",
       "1     2018-01-02   화    403   585          988         NaN\n",
       "2     2018-01-03   수    192   502          694         NaN\n",
       "3     2018-01-04   목    165   506          671         NaN\n",
       "4     2018-01-05   금    189   569          758         NaN\n",
       "...          ...  ..    ...   ...          ...         ...\n",
       "1637  2022-06-26   일  18207   622        18829         NaN\n",
       "1638  2022-06-27   월    166   293          459         NaN\n",
       "1639  2022-06-28   화    140   264          404         NaN\n",
       "1640  2022-06-29   수     88   151          239         NaN\n",
       "1641  2022-06-30   목     31    77          108         NaN\n",
       "\n",
       "[1642 rows x 6 columns]"
      ]
     },
     "execution_count": 3,
     "metadata": {},
     "output_type": "execute_result"
    }
   ],
   "source": [
    "seoul_park"
   ]
  },
  {
   "cell_type": "code",
   "execution_count": 4,
   "id": "428814ba-7456-4aa7-a701-5dd69bd26c39",
   "metadata": {},
   "outputs": [],
   "source": [
    "#Unnamed: 5 삭제\n",
    "seoul_park = seoul_park.drop('Unnamed: 5', axis = 1)   # <- 없어짐"
   ]
  },
  {
   "cell_type": "code",
   "execution_count": 5,
   "id": "fa5e8c9b-ba48-401d-a03c-de3a9caef864",
   "metadata": {},
   "outputs": [
    {
     "data": {
      "text/html": [
       "<div>\n",
       "<style scoped>\n",
       "    .dataframe tbody tr th:only-of-type {\n",
       "        vertical-align: middle;\n",
       "    }\n",
       "\n",
       "    .dataframe tbody tr th {\n",
       "        vertical-align: top;\n",
       "    }\n",
       "\n",
       "    .dataframe thead th {\n",
       "        text-align: right;\n",
       "    }\n",
       "</style>\n",
       "<table border=\"1\" class=\"dataframe\">\n",
       "  <thead>\n",
       "    <tr style=\"text-align: right;\">\n",
       "      <th></th>\n",
       "      <th>date</th>\n",
       "      <th>day</th>\n",
       "      <th>pay</th>\n",
       "      <th>free</th>\n",
       "      <th>daily_total</th>\n",
       "    </tr>\n",
       "  </thead>\n",
       "  <tbody>\n",
       "    <tr>\n",
       "      <th>0</th>\n",
       "      <td>2018-01-01</td>\n",
       "      <td>월</td>\n",
       "      <td>1688</td>\n",
       "      <td>628</td>\n",
       "      <td>2316</td>\n",
       "    </tr>\n",
       "    <tr>\n",
       "      <th>1</th>\n",
       "      <td>2018-01-02</td>\n",
       "      <td>화</td>\n",
       "      <td>403</td>\n",
       "      <td>585</td>\n",
       "      <td>988</td>\n",
       "    </tr>\n",
       "    <tr>\n",
       "      <th>2</th>\n",
       "      <td>2018-01-03</td>\n",
       "      <td>수</td>\n",
       "      <td>192</td>\n",
       "      <td>502</td>\n",
       "      <td>694</td>\n",
       "    </tr>\n",
       "    <tr>\n",
       "      <th>3</th>\n",
       "      <td>2018-01-04</td>\n",
       "      <td>목</td>\n",
       "      <td>165</td>\n",
       "      <td>506</td>\n",
       "      <td>671</td>\n",
       "    </tr>\n",
       "    <tr>\n",
       "      <th>4</th>\n",
       "      <td>2018-01-05</td>\n",
       "      <td>금</td>\n",
       "      <td>189</td>\n",
       "      <td>569</td>\n",
       "      <td>758</td>\n",
       "    </tr>\n",
       "    <tr>\n",
       "      <th>...</th>\n",
       "      <td>...</td>\n",
       "      <td>...</td>\n",
       "      <td>...</td>\n",
       "      <td>...</td>\n",
       "      <td>...</td>\n",
       "    </tr>\n",
       "    <tr>\n",
       "      <th>1637</th>\n",
       "      <td>2022-06-26</td>\n",
       "      <td>일</td>\n",
       "      <td>18207</td>\n",
       "      <td>622</td>\n",
       "      <td>18829</td>\n",
       "    </tr>\n",
       "    <tr>\n",
       "      <th>1638</th>\n",
       "      <td>2022-06-27</td>\n",
       "      <td>월</td>\n",
       "      <td>166</td>\n",
       "      <td>293</td>\n",
       "      <td>459</td>\n",
       "    </tr>\n",
       "    <tr>\n",
       "      <th>1639</th>\n",
       "      <td>2022-06-28</td>\n",
       "      <td>화</td>\n",
       "      <td>140</td>\n",
       "      <td>264</td>\n",
       "      <td>404</td>\n",
       "    </tr>\n",
       "    <tr>\n",
       "      <th>1640</th>\n",
       "      <td>2022-06-29</td>\n",
       "      <td>수</td>\n",
       "      <td>88</td>\n",
       "      <td>151</td>\n",
       "      <td>239</td>\n",
       "    </tr>\n",
       "    <tr>\n",
       "      <th>1641</th>\n",
       "      <td>2022-06-30</td>\n",
       "      <td>목</td>\n",
       "      <td>31</td>\n",
       "      <td>77</td>\n",
       "      <td>108</td>\n",
       "    </tr>\n",
       "  </tbody>\n",
       "</table>\n",
       "<p>1642 rows × 5 columns</p>\n",
       "</div>"
      ],
      "text/plain": [
       "            date day    pay  free  daily_total\n",
       "0     2018-01-01   월   1688   628         2316\n",
       "1     2018-01-02   화    403   585          988\n",
       "2     2018-01-03   수    192   502          694\n",
       "3     2018-01-04   목    165   506          671\n",
       "4     2018-01-05   금    189   569          758\n",
       "...          ...  ..    ...   ...          ...\n",
       "1637  2022-06-26   일  18207   622        18829\n",
       "1638  2022-06-27   월    166   293          459\n",
       "1639  2022-06-28   화    140   264          404\n",
       "1640  2022-06-29   수     88   151          239\n",
       "1641  2022-06-30   목     31    77          108\n",
       "\n",
       "[1642 rows x 5 columns]"
      ]
     },
     "execution_count": 5,
     "metadata": {},
     "output_type": "execute_result"
    }
   ],
   "source": [
    "seoul_park"
   ]
  },
  {
   "cell_type": "code",
   "execution_count": 6,
   "id": "98e688c1-55d4-407e-8040-747ed7fd12ef",
   "metadata": {},
   "outputs": [
    {
     "data": {
      "text/html": [
       "<div>\n",
       "<style scoped>\n",
       "    .dataframe tbody tr th:only-of-type {\n",
       "        vertical-align: middle;\n",
       "    }\n",
       "\n",
       "    .dataframe tbody tr th {\n",
       "        vertical-align: top;\n",
       "    }\n",
       "\n",
       "    .dataframe thead th {\n",
       "        text-align: right;\n",
       "    }\n",
       "</style>\n",
       "<table border=\"1\" class=\"dataframe\">\n",
       "  <thead>\n",
       "    <tr style=\"text-align: right;\">\n",
       "      <th></th>\n",
       "      <th>date</th>\n",
       "      <th>day</th>\n",
       "      <th>pay</th>\n",
       "      <th>free</th>\n",
       "      <th>daily_total</th>\n",
       "    </tr>\n",
       "  </thead>\n",
       "  <tbody>\n",
       "    <tr>\n",
       "      <th>0</th>\n",
       "      <td>2018-01-01</td>\n",
       "      <td>월</td>\n",
       "      <td>1688</td>\n",
       "      <td>628</td>\n",
       "      <td>0</td>\n",
       "    </tr>\n",
       "    <tr>\n",
       "      <th>1</th>\n",
       "      <td>2018-01-02</td>\n",
       "      <td>화</td>\n",
       "      <td>403</td>\n",
       "      <td>585</td>\n",
       "      <td>0</td>\n",
       "    </tr>\n",
       "    <tr>\n",
       "      <th>2</th>\n",
       "      <td>2018-01-03</td>\n",
       "      <td>수</td>\n",
       "      <td>192</td>\n",
       "      <td>502</td>\n",
       "      <td>0</td>\n",
       "    </tr>\n",
       "    <tr>\n",
       "      <th>3</th>\n",
       "      <td>2018-01-04</td>\n",
       "      <td>목</td>\n",
       "      <td>165</td>\n",
       "      <td>506</td>\n",
       "      <td>0</td>\n",
       "    </tr>\n",
       "    <tr>\n",
       "      <th>4</th>\n",
       "      <td>2018-01-05</td>\n",
       "      <td>금</td>\n",
       "      <td>189</td>\n",
       "      <td>569</td>\n",
       "      <td>0</td>\n",
       "    </tr>\n",
       "    <tr>\n",
       "      <th>...</th>\n",
       "      <td>...</td>\n",
       "      <td>...</td>\n",
       "      <td>...</td>\n",
       "      <td>...</td>\n",
       "      <td>...</td>\n",
       "    </tr>\n",
       "    <tr>\n",
       "      <th>1637</th>\n",
       "      <td>2022-06-26</td>\n",
       "      <td>일</td>\n",
       "      <td>18207</td>\n",
       "      <td>622</td>\n",
       "      <td>1</td>\n",
       "    </tr>\n",
       "    <tr>\n",
       "      <th>1638</th>\n",
       "      <td>2022-06-27</td>\n",
       "      <td>월</td>\n",
       "      <td>166</td>\n",
       "      <td>293</td>\n",
       "      <td>0</td>\n",
       "    </tr>\n",
       "    <tr>\n",
       "      <th>1639</th>\n",
       "      <td>2022-06-28</td>\n",
       "      <td>화</td>\n",
       "      <td>140</td>\n",
       "      <td>264</td>\n",
       "      <td>0</td>\n",
       "    </tr>\n",
       "    <tr>\n",
       "      <th>1640</th>\n",
       "      <td>2022-06-29</td>\n",
       "      <td>수</td>\n",
       "      <td>88</td>\n",
       "      <td>151</td>\n",
       "      <td>0</td>\n",
       "    </tr>\n",
       "    <tr>\n",
       "      <th>1641</th>\n",
       "      <td>2022-06-30</td>\n",
       "      <td>목</td>\n",
       "      <td>31</td>\n",
       "      <td>77</td>\n",
       "      <td>0</td>\n",
       "    </tr>\n",
       "  </tbody>\n",
       "</table>\n",
       "<p>1642 rows × 5 columns</p>\n",
       "</div>"
      ],
      "text/plain": [
       "            date day    pay  free  daily_total\n",
       "0     2018-01-01   월   1688   628            0\n",
       "1     2018-01-02   화    403   585            0\n",
       "2     2018-01-03   수    192   502            0\n",
       "3     2018-01-04   목    165   506            0\n",
       "4     2018-01-05   금    189   569            0\n",
       "...          ...  ..    ...   ...          ...\n",
       "1637  2022-06-26   일  18207   622            1\n",
       "1638  2022-06-27   월    166   293            0\n",
       "1639  2022-06-28   화    140   264            0\n",
       "1640  2022-06-29   수     88   151            0\n",
       "1641  2022-06-30   목     31    77            0\n",
       "\n",
       "[1642 rows x 5 columns]"
      ]
     },
     "execution_count": 6,
     "metadata": {},
     "output_type": "execute_result"
    }
   ],
   "source": [
    "# daily_total 7000보다 작은 원소는 0으로, 큰 원소는 1로\n",
    "seoul_park['daily_total'] = np.where(seoul_park['daily_total'] < 7000, 0, 1)\n",
    "seoul_park"
   ]
  },
  {
   "cell_type": "code",
   "execution_count": 7,
   "id": "f14df1ff-9419-42ff-9643-5174311b8f25",
   "metadata": {},
   "outputs": [],
   "source": [
    "#seoul = seoul.drop(index=365, axis=0)"
   ]
  },
  {
   "cell_type": "code",
   "execution_count": 8,
   "id": "c51a0ae6-7a09-4c6e-82ff-6bf608af5705",
   "metadata": {},
   "outputs": [
    {
     "data": {
      "text/html": [
       "<div>\n",
       "<style scoped>\n",
       "    .dataframe tbody tr th:only-of-type {\n",
       "        vertical-align: middle;\n",
       "    }\n",
       "\n",
       "    .dataframe tbody tr th {\n",
       "        vertical-align: top;\n",
       "    }\n",
       "\n",
       "    .dataframe thead th {\n",
       "        text-align: right;\n",
       "    }\n",
       "</style>\n",
       "<table border=\"1\" class=\"dataframe\">\n",
       "  <thead>\n",
       "    <tr style=\"text-align: right;\">\n",
       "      <th></th>\n",
       "      <th>date</th>\n",
       "      <th>average_temperature(℃)</th>\n",
       "      <th>minimum_temperature(℃)</th>\n",
       "      <th>highest_temperature(℃)</th>\n",
       "      <th>precipitation(mm)</th>\n",
       "      <th>class</th>\n",
       "    </tr>\n",
       "  </thead>\n",
       "  <tbody>\n",
       "    <tr>\n",
       "      <th>0</th>\n",
       "      <td>2018-01-01</td>\n",
       "      <td>-1.3</td>\n",
       "      <td>-5.1</td>\n",
       "      <td>3.8</td>\n",
       "      <td>NaN</td>\n",
       "      <td>0</td>\n",
       "    </tr>\n",
       "    <tr>\n",
       "      <th>1</th>\n",
       "      <td>2018-01-02</td>\n",
       "      <td>-1.8</td>\n",
       "      <td>-4.3</td>\n",
       "      <td>1.8</td>\n",
       "      <td>NaN</td>\n",
       "      <td>0</td>\n",
       "    </tr>\n",
       "    <tr>\n",
       "      <th>2</th>\n",
       "      <td>2018-01-03</td>\n",
       "      <td>-4.7</td>\n",
       "      <td>-7.1</td>\n",
       "      <td>-0.4</td>\n",
       "      <td>NaN</td>\n",
       "      <td>0</td>\n",
       "    </tr>\n",
       "    <tr>\n",
       "      <th>3</th>\n",
       "      <td>2018-01-04</td>\n",
       "      <td>-4.7</td>\n",
       "      <td>-8.7</td>\n",
       "      <td>-0.7</td>\n",
       "      <td>NaN</td>\n",
       "      <td>0</td>\n",
       "    </tr>\n",
       "    <tr>\n",
       "      <th>4</th>\n",
       "      <td>2018-01-05</td>\n",
       "      <td>-3.0</td>\n",
       "      <td>-5.6</td>\n",
       "      <td>1.6</td>\n",
       "      <td>NaN</td>\n",
       "      <td>0</td>\n",
       "    </tr>\n",
       "    <tr>\n",
       "      <th>...</th>\n",
       "      <td>...</td>\n",
       "      <td>...</td>\n",
       "      <td>...</td>\n",
       "      <td>...</td>\n",
       "      <td>...</td>\n",
       "      <td>...</td>\n",
       "    </tr>\n",
       "    <tr>\n",
       "      <th>1637</th>\n",
       "      <td>2022-06-26</td>\n",
       "      <td>26.5</td>\n",
       "      <td>24.8</td>\n",
       "      <td>28.1</td>\n",
       "      <td>NaN</td>\n",
       "      <td>0</td>\n",
       "    </tr>\n",
       "    <tr>\n",
       "      <th>1638</th>\n",
       "      <td>2022-06-27</td>\n",
       "      <td>26.8</td>\n",
       "      <td>25.4</td>\n",
       "      <td>28.1</td>\n",
       "      <td>6.1</td>\n",
       "      <td>1</td>\n",
       "    </tr>\n",
       "    <tr>\n",
       "      <th>1639</th>\n",
       "      <td>2022-06-28</td>\n",
       "      <td>26.9</td>\n",
       "      <td>25.7</td>\n",
       "      <td>27.9</td>\n",
       "      <td>6.3</td>\n",
       "      <td>1</td>\n",
       "    </tr>\n",
       "    <tr>\n",
       "      <th>1640</th>\n",
       "      <td>2022-06-29</td>\n",
       "      <td>25.1</td>\n",
       "      <td>24.4</td>\n",
       "      <td>26.1</td>\n",
       "      <td>37.8</td>\n",
       "      <td>1</td>\n",
       "    </tr>\n",
       "    <tr>\n",
       "      <th>1641</th>\n",
       "      <td>2022-06-30</td>\n",
       "      <td>22.3</td>\n",
       "      <td>21.2</td>\n",
       "      <td>24.5</td>\n",
       "      <td>176.2</td>\n",
       "      <td>1</td>\n",
       "    </tr>\n",
       "  </tbody>\n",
       "</table>\n",
       "<p>1642 rows × 6 columns</p>\n",
       "</div>"
      ],
      "text/plain": [
       "            date  average_temperature(℃)  minimum_temperature(℃)  \\\n",
       "0     2018-01-01                    -1.3                    -5.1   \n",
       "1     2018-01-02                    -1.8                    -4.3   \n",
       "2     2018-01-03                    -4.7                    -7.1   \n",
       "3     2018-01-04                    -4.7                    -8.7   \n",
       "4     2018-01-05                    -3.0                    -5.6   \n",
       "...          ...                     ...                     ...   \n",
       "1637  2022-06-26                    26.5                    24.8   \n",
       "1638  2022-06-27                    26.8                    25.4   \n",
       "1639  2022-06-28                    26.9                    25.7   \n",
       "1640  2022-06-29                    25.1                    24.4   \n",
       "1641  2022-06-30                    22.3                    21.2   \n",
       "\n",
       "      highest_temperature(℃)  precipitation(mm)  class  \n",
       "0                        3.8                NaN      0  \n",
       "1                        1.8                NaN      0  \n",
       "2                       -0.4                NaN      0  \n",
       "3                       -0.7                NaN      0  \n",
       "4                        1.6                NaN      0  \n",
       "...                      ...                ...    ...  \n",
       "1637                    28.1                NaN      0  \n",
       "1638                    28.1                6.1      1  \n",
       "1639                    27.9                6.3      1  \n",
       "1640                    26.1               37.8      1  \n",
       "1641                    24.5              176.2      1  \n",
       "\n",
       "[1642 rows x 6 columns]"
      ]
     },
     "execution_count": 8,
     "metadata": {},
     "output_type": "execute_result"
    }
   ],
   "source": [
    "seoul"
   ]
  },
  {
   "cell_type": "code",
   "execution_count": 9,
   "id": "b8c00924-7577-4ad3-95ae-fbc6196a2106",
   "metadata": {},
   "outputs": [
    {
     "data": {
      "text/plain": [
       "0"
      ]
     },
     "execution_count": 9,
     "metadata": {},
     "output_type": "execute_result"
    }
   ],
   "source": [
    "# 중복값 확인\n",
    "seoul.duplicated().sum()"
   ]
  },
  {
   "cell_type": "code",
   "execution_count": 10,
   "id": "b7d7fa22-269a-416f-8468-f19b5838be64",
   "metadata": {},
   "outputs": [
    {
     "data": {
      "text/plain": [
       "0"
      ]
     },
     "execution_count": 10,
     "metadata": {},
     "output_type": "execute_result"
    }
   ],
   "source": [
    "# 중복값 확인\n",
    "seoul_park.duplicated().sum()"
   ]
  },
  {
   "cell_type": "code",
   "execution_count": 11,
   "id": "fb889053-314e-4f3f-b44c-f0bead9d2bd0",
   "metadata": {},
   "outputs": [
    {
     "data": {
      "text/plain": [
       "date                         0\n",
       "average_temperature(℃)       0\n",
       "minimum_temperature(℃)       0\n",
       "highest_temperature(℃)       0\n",
       "precipitation(mm)         1000\n",
       "class                        0\n",
       "dtype: int64"
      ]
     },
     "execution_count": 11,
     "metadata": {},
     "output_type": "execute_result"
    }
   ],
   "source": [
    "# 결측치 확인\n",
    "seoul.isnull().sum()"
   ]
  },
  {
   "cell_type": "code",
   "execution_count": 12,
   "id": "822b62cc-fc56-4b9c-8b9d-21f182a0cc04",
   "metadata": {},
   "outputs": [
    {
     "data": {
      "text/plain": [
       "0"
      ]
     },
     "execution_count": 12,
     "metadata": {},
     "output_type": "execute_result"
    }
   ],
   "source": [
    "# NAN값 0으로 채움\n",
    "seoul = seoul.fillna(0)\n",
    "(seoul.isnull().sum()).sum()"
   ]
  },
  {
   "cell_type": "code",
   "execution_count": 13,
   "id": "c81ecf66-6135-48d4-8335-3346dff283d0",
   "metadata": {},
   "outputs": [
    {
     "data": {
      "text/plain": [
       "0"
      ]
     },
     "execution_count": 13,
     "metadata": {},
     "output_type": "execute_result"
    }
   ],
   "source": [
    "# 결측치 확인\n",
    "(seoul_park.isnull().sum()).sum()"
   ]
  },
  {
   "cell_type": "code",
   "execution_count": 14,
   "id": "56d1d52a-ba4d-49dc-9292-396d14f2167f",
   "metadata": {},
   "outputs": [],
   "source": [
    "seoul = seoul.astype({'average_temperature(℃)':'int'})\n",
    "#seoul = seoul.astype({'minimum_temperature(℃)':'float'})\n",
    "#seoul = seoul.astype({'highest_temperature(℃)':'float'})\n",
    "seoul = seoul.astype({'precipitation(mm)':'int'})\n",
    "#seoul = seoul.astype({'class':'int'})"
   ]
  },
  {
   "cell_type": "code",
   "execution_count": 15,
   "id": "01282f32-ab53-4482-bac5-0fff037e4fce",
   "metadata": {},
   "outputs": [
    {
     "name": "stdout",
     "output_type": "stream",
     "text": [
      "<class 'pandas.core.frame.DataFrame'>\n",
      "RangeIndex: 1642 entries, 0 to 1641\n",
      "Data columns (total 6 columns):\n",
      " #   Column                  Non-Null Count  Dtype  \n",
      "---  ------                  --------------  -----  \n",
      " 0   date                    1642 non-null   object \n",
      " 1   average_temperature(℃)  1642 non-null   int32  \n",
      " 2   minimum_temperature(℃)  1642 non-null   float64\n",
      " 3   highest_temperature(℃)  1642 non-null   float64\n",
      " 4   precipitation(mm)       1642 non-null   int32  \n",
      " 5   class                   1642 non-null   int64  \n",
      "dtypes: float64(2), int32(2), int64(1), object(1)\n",
      "memory usage: 64.3+ KB\n"
     ]
    }
   ],
   "source": [
    "seoul.info()"
   ]
  },
  {
   "cell_type": "code",
   "execution_count": 16,
   "id": "02fa0493-2b87-4499-b997-58ddd23d07a8",
   "metadata": {},
   "outputs": [],
   "source": [
    "seoul_park = seoul_park.astype({'daily_total':'int'})\n",
    "seoul_park = seoul_park.astype({'pay':'int'})\n",
    "seoul_park = seoul_park.astype({'free':'int'})"
   ]
  },
  {
   "cell_type": "code",
   "execution_count": 17,
   "id": "7bcff73f-1ceb-4414-9362-9bdddcb2d9c9",
   "metadata": {},
   "outputs": [
    {
     "name": "stdout",
     "output_type": "stream",
     "text": [
      "<class 'pandas.core.frame.DataFrame'>\n",
      "RangeIndex: 1642 entries, 0 to 1641\n",
      "Data columns (total 5 columns):\n",
      " #   Column       Non-Null Count  Dtype \n",
      "---  ------       --------------  ----- \n",
      " 0   date         1642 non-null   object\n",
      " 1   day          1642 non-null   object\n",
      " 2   pay          1642 non-null   int32 \n",
      " 3   free         1642 non-null   int32 \n",
      " 4   daily_total  1642 non-null   int32 \n",
      "dtypes: int32(3), object(2)\n",
      "memory usage: 45.0+ KB\n"
     ]
    }
   ],
   "source": [
    "seoul_park.info()"
   ]
  },
  {
   "cell_type": "code",
   "execution_count": 18,
   "id": "8e77ed66-b362-4fe9-a82c-43a953f287bb",
   "metadata": {},
   "outputs": [],
   "source": [
    "from sklearn.model_selection import train_test_split\n",
    "X = seoul.drop({'class', 'date', 'minimum_temperature(℃)', 'highest_temperature(℃)'}, axis=1)\n",
    "y = seoul_park['daily_total']\n",
    "\n",
    "# 테스트 사이즈 20%\n",
    "X_train, X_test, y_train, y_test = train_test_split(X, y, test_size=0.2, random_state=42)"
   ]
  },
  {
   "cell_type": "code",
   "execution_count": 19,
   "id": "79732d46-8866-410c-8fd9-ab5f2540f853",
   "metadata": {},
   "outputs": [
    {
     "name": "stdout",
     "output_type": "stream",
     "text": [
      "Warning: No categorical columns found. Calling 'transform' will only return input data.\n"
     ]
    }
   ],
   "source": [
    "# 원핫인코딩\n",
    "from category_encoders import OneHotEncoder\n",
    "\n",
    "ohe = OneHotEncoder(handle_unknown = 'ignore')\n",
    "X_train = ohe.fit_transform(X_train)\n",
    "X_test = ohe.transform(X_test)"
   ]
  },
  {
   "cell_type": "code",
   "execution_count": 20,
   "id": "272da35b-aa43-477b-a172-82b16b1a4cff",
   "metadata": {},
   "outputs": [
    {
     "data": {
      "text/html": [
       "<div>\n",
       "<style scoped>\n",
       "    .dataframe tbody tr th:only-of-type {\n",
       "        vertical-align: middle;\n",
       "    }\n",
       "\n",
       "    .dataframe tbody tr th {\n",
       "        vertical-align: top;\n",
       "    }\n",
       "\n",
       "    .dataframe thead th {\n",
       "        text-align: right;\n",
       "    }\n",
       "</style>\n",
       "<table border=\"1\" class=\"dataframe\">\n",
       "  <thead>\n",
       "    <tr style=\"text-align: right;\">\n",
       "      <th></th>\n",
       "      <th>average_temperature(℃)</th>\n",
       "      <th>precipitation(mm)</th>\n",
       "    </tr>\n",
       "  </thead>\n",
       "  <tbody>\n",
       "    <tr>\n",
       "      <th>1308</th>\n",
       "      <td>27</td>\n",
       "      <td>21</td>\n",
       "    </tr>\n",
       "    <tr>\n",
       "      <th>1018</th>\n",
       "      <td>11</td>\n",
       "      <td>0</td>\n",
       "    </tr>\n",
       "    <tr>\n",
       "      <th>1046</th>\n",
       "      <td>10</td>\n",
       "      <td>0</td>\n",
       "    </tr>\n",
       "    <tr>\n",
       "      <th>1202</th>\n",
       "      <td>9</td>\n",
       "      <td>0</td>\n",
       "    </tr>\n",
       "    <tr>\n",
       "      <th>721</th>\n",
       "      <td>3</td>\n",
       "      <td>2</td>\n",
       "    </tr>\n",
       "    <tr>\n",
       "      <th>...</th>\n",
       "      <td>...</td>\n",
       "      <td>...</td>\n",
       "    </tr>\n",
       "    <tr>\n",
       "      <th>1130</th>\n",
       "      <td>-3</td>\n",
       "      <td>0</td>\n",
       "    </tr>\n",
       "    <tr>\n",
       "      <th>1294</th>\n",
       "      <td>29</td>\n",
       "      <td>0</td>\n",
       "    </tr>\n",
       "    <tr>\n",
       "      <th>860</th>\n",
       "      <td>14</td>\n",
       "      <td>1</td>\n",
       "    </tr>\n",
       "    <tr>\n",
       "      <th>1459</th>\n",
       "      <td>-3</td>\n",
       "      <td>0</td>\n",
       "    </tr>\n",
       "    <tr>\n",
       "      <th>1126</th>\n",
       "      <td>3</td>\n",
       "      <td>0</td>\n",
       "    </tr>\n",
       "  </tbody>\n",
       "</table>\n",
       "<p>1313 rows × 2 columns</p>\n",
       "</div>"
      ],
      "text/plain": [
       "      average_temperature(℃)  precipitation(mm)\n",
       "1308                      27                 21\n",
       "1018                      11                  0\n",
       "1046                      10                  0\n",
       "1202                       9                  0\n",
       "721                        3                  2\n",
       "...                      ...                ...\n",
       "1130                      -3                  0\n",
       "1294                      29                  0\n",
       "860                       14                  1\n",
       "1459                      -3                  0\n",
       "1126                       3                  0\n",
       "\n",
       "[1313 rows x 2 columns]"
      ]
     },
     "execution_count": 20,
     "metadata": {},
     "output_type": "execute_result"
    }
   ],
   "source": [
    "X_train"
   ]
  },
  {
   "cell_type": "code",
   "execution_count": 21,
   "id": "c2859a82-50ff-4117-b9c4-813d92df8697",
   "metadata": {},
   "outputs": [
    {
     "data": {
      "text/plain": [
       "1308    0\n",
       "1018    0\n",
       "1046    0\n",
       "1202    0\n",
       "721     0\n",
       "       ..\n",
       "1130    0\n",
       "1294    0\n",
       "860     0\n",
       "1459    0\n",
       "1126    0\n",
       "Name: daily_total, Length: 1313, dtype: int32"
      ]
     },
     "execution_count": 21,
     "metadata": {},
     "output_type": "execute_result"
    }
   ],
   "source": [
    "y_train"
   ]
  },
  {
   "cell_type": "code",
   "execution_count": 22,
   "id": "ecc77ac7-01b4-449d-9277-e76193f72e8a",
   "metadata": {},
   "outputs": [
    {
     "data": {
      "text/plain": [
       "677     1\n",
       "1340    0\n",
       "984     0\n",
       "607     1\n",
       "1394    0\n",
       "       ..\n",
       "306     1\n",
       "192     0\n",
       "309     0\n",
       "654     1\n",
       "63      0\n",
       "Name: daily_total, Length: 329, dtype: int32"
      ]
     },
     "execution_count": 22,
     "metadata": {},
     "output_type": "execute_result"
    }
   ],
   "source": [
    "y_test"
   ]
  },
  {
   "cell_type": "code",
   "execution_count": 23,
   "id": "0fa487d7-2baf-4d28-b306-535fa7994deb",
   "metadata": {},
   "outputs": [
    {
     "data": {
      "text/html": [
       "<div>\n",
       "<style scoped>\n",
       "    .dataframe tbody tr th:only-of-type {\n",
       "        vertical-align: middle;\n",
       "    }\n",
       "\n",
       "    .dataframe tbody tr th {\n",
       "        vertical-align: top;\n",
       "    }\n",
       "\n",
       "    .dataframe thead th {\n",
       "        text-align: right;\n",
       "    }\n",
       "</style>\n",
       "<table border=\"1\" class=\"dataframe\">\n",
       "  <thead>\n",
       "    <tr style=\"text-align: right;\">\n",
       "      <th></th>\n",
       "      <th>average_temperature(℃)</th>\n",
       "      <th>precipitation(mm)</th>\n",
       "    </tr>\n",
       "  </thead>\n",
       "  <tbody>\n",
       "    <tr>\n",
       "      <th>677</th>\n",
       "      <td>9</td>\n",
       "      <td>0</td>\n",
       "    </tr>\n",
       "    <tr>\n",
       "      <th>1340</th>\n",
       "      <td>23</td>\n",
       "      <td>0</td>\n",
       "    </tr>\n",
       "    <tr>\n",
       "      <th>984</th>\n",
       "      <td>22</td>\n",
       "      <td>1</td>\n",
       "    </tr>\n",
       "    <tr>\n",
       "      <th>607</th>\n",
       "      <td>23</td>\n",
       "      <td>0</td>\n",
       "    </tr>\n",
       "    <tr>\n",
       "      <th>1394</th>\n",
       "      <td>13</td>\n",
       "      <td>0</td>\n",
       "    </tr>\n",
       "    <tr>\n",
       "      <th>...</th>\n",
       "      <td>...</td>\n",
       "      <td>...</td>\n",
       "    </tr>\n",
       "    <tr>\n",
       "      <th>306</th>\n",
       "      <td>11</td>\n",
       "      <td>0</td>\n",
       "    </tr>\n",
       "    <tr>\n",
       "      <th>192</th>\n",
       "      <td>26</td>\n",
       "      <td>1</td>\n",
       "    </tr>\n",
       "    <tr>\n",
       "      <th>309</th>\n",
       "      <td>12</td>\n",
       "      <td>0</td>\n",
       "    </tr>\n",
       "    <tr>\n",
       "      <th>654</th>\n",
       "      <td>15</td>\n",
       "      <td>0</td>\n",
       "    </tr>\n",
       "    <tr>\n",
       "      <th>63</th>\n",
       "      <td>5</td>\n",
       "      <td>3</td>\n",
       "    </tr>\n",
       "  </tbody>\n",
       "</table>\n",
       "<p>329 rows × 2 columns</p>\n",
       "</div>"
      ],
      "text/plain": [
       "      average_temperature(℃)  precipitation(mm)\n",
       "677                        9                  0\n",
       "1340                      23                  0\n",
       "984                       22                  1\n",
       "607                       23                  0\n",
       "1394                      13                  0\n",
       "...                      ...                ...\n",
       "306                       11                  0\n",
       "192                       26                  1\n",
       "309                       12                  0\n",
       "654                       15                  0\n",
       "63                         5                  3\n",
       "\n",
       "[329 rows x 2 columns]"
      ]
     },
     "execution_count": 23,
     "metadata": {},
     "output_type": "execute_result"
    }
   ],
   "source": [
    "X_test"
   ]
  },
  {
   "cell_type": "code",
   "execution_count": 24,
   "id": "8f664353-61d2-4963-96e8-29a1c26a7ce8",
   "metadata": {},
   "outputs": [
    {
     "data": {
      "text/plain": [
       "((1313, 2), (329, 2), (1313,), (329,))"
      ]
     },
     "execution_count": 24,
     "metadata": {},
     "output_type": "execute_result"
    }
   ],
   "source": [
    "# train, test 데이터가 잘 나눠졌는지 확인\n",
    "\n",
    "X_train.shape, X_test.shape, y_train.shape, y_test.shape"
   ]
  },
  {
   "cell_type": "code",
   "execution_count": 25,
   "id": "713a62a6-f5af-4c39-abe2-3f666946c61b",
   "metadata": {},
   "outputs": [],
   "source": [
    "# 데이터 정규화(스케일링) 하기\n",
    "from sklearn.preprocessing import StandardScaler\n",
    "\n",
    "scaler = StandardScaler()\n",
    "train_features = scaler.fit_transform(X_train)\n",
    "test_features = scaler.transform(X_test)"
   ]
  },
  {
   "cell_type": "code",
   "execution_count": 26,
   "id": "482e28e1-3b97-42cf-8e9e-d24b556b4b50",
   "metadata": {},
   "outputs": [
    {
     "name": "stderr",
     "output_type": "stream",
     "text": [
      "C:\\Users\\dawn\\AppData\\Local\\Temp\\ipykernel_10216\\2593147592.py:4: FutureWarning: The default value of numeric_only in DataFrame.corr is deprecated. In a future version, it will default to False. Select only valid columns or specify the value of numeric_only to silence this warning.\n",
      "  corr = seoul.corr()\n"
     ]
    },
    {
     "data": {
      "text/plain": [
       "<AxesSubplot: >"
      ]
     },
     "execution_count": 26,
     "metadata": {},
     "output_type": "execute_result"
    },
    {
     "data": {
      "image/png": "[encoded data removed]",
      "text/plain": [
       "<Figure size 1300x700 with 2 Axes>"
      ]
     },
     "metadata": {},
     "output_type": "display_data"
    }
   ],
   "source": [
    "# correlations of variables\n",
    "\n",
    "import seaborn as sns\n",
    "corr = seoul.corr()\n",
    "f, ax = plt.subplots(figsize=(13, 7))\n",
    "mask = np.triu(np.ones_like(corr, dtype=bool))\n",
    "cmap = sns.diverging_palette(230, 20, as_cmap=True)\n",
    "sns.heatmap(corr, annot=True, mask = mask, cmap=cmap)"
   ]
  },
  {
   "cell_type": "code",
   "execution_count": null,
   "id": "b40af676-5573-4532-b11f-30c63e7906fc",
   "metadata": {},
   "outputs": [],
   "source": []
  },
  {
   "cell_type": "code",
   "execution_count": 27,
   "id": "7eb9bd60-b540-43ae-a06b-38e3e309f3b0",
   "metadata": {},
   "outputs": [
    {
     "name": "stdout",
     "output_type": "stream",
     "text": [
      "Train accuracy score: 0.8035034272658035\n",
      "Test accuracy score:0.8085106382978723\n"
     ]
    }
   ],
   "source": [
    "# 로지스틱 회귀\n",
    "from sklearn.linear_model import LogisticRegression\n",
    "\n",
    "model = LogisticRegression()\n",
    "model.fit(X_train, y_train)\n",
    "print('Train accuracy score: ' + str(model.score(X_train, y_train))) #accuracy(정확도)\n",
    "print('Test accuracy score:' + str(model.score(X_test, y_test))) #accuracy(정확도)"
   ]
  },
  {
   "cell_type": "code",
   "execution_count": 43,
   "id": "6ad7c8db-d1e1-4cc1-8020-071be504a506",
   "metadata": {},
   "outputs": [
    {
     "data": {
      "text/plain": [
       "array([0, 0, 0, 0, 1, 0, 0, 0, 0, 1, 0, 1])"
      ]
     },
     "execution_count": 43,
     "metadata": {},
     "output_type": "execute_result"
    }
   ],
   "source": [
    "# 11/02 ~ 11/12 날씨 데이터\n",
    "test2 = pd.DataFrame([[10.5, 0], [4.0, 0], [9.5, 0], [10.5, 0], [13, 0], [9, 0], [6.5, 0], [9.0, 0], [11.0, 0], [12.5, 0], [11, 0], [17, 0]], columns=['average_temperature(℃)','precipitation(mm)'])\n",
    "result = model.predict(test2)\n",
    "result"
   ]
  },
  {
   "cell_type": "code",
   "execution_count": 29,
   "id": "556fcf6b-bc22-4a06-a352-884f6c87913e",
   "metadata": {},
   "outputs": [
    {
     "data": {
      "text/plain": [
       "11.0"
      ]
     },
     "execution_count": 29,
     "metadata": {},
     "output_type": "execute_result"
    }
   ],
   "source": [
    "a = [16, 6]\n",
    "np.median(a)"
   ]
  },
  {
   "cell_type": "code",
   "execution_count": null,
   "id": "f45690cb-ffba-48c0-a7b2-4c9c02033e7c",
   "metadata": {},
   "outputs": [],
   "source": []
  },
  {
   "cell_type": "code",
   "execution_count": 30,
   "id": "7a96b63f-ada5-4948-803a-6471c34f2185",
   "metadata": {},
   "outputs": [
    {
     "name": "stdout",
     "output_type": "stream",
     "text": [
      "Train accuracy score: 0.8194973343488196\n",
      "Test accuracy score:0.7993920972644377\n"
     ]
    }
   ],
   "source": [
    "# 결정트리\n",
    "\n",
    "from sklearn.tree import DecisionTreeClassifier\n",
    "from sklearn import tree\n",
    "\n",
    "model = tree.DecisionTreeClassifier() \n",
    "model.fit(X_train, y_train) \n",
    "\n",
    "#print(model.score(X_train,  y_train))\n",
    "#print(model.score(X_test, y_test))\n",
    "print('Train accuracy score: ' + str(model.score(X_train, y_train))) #recall\n",
    "print('Test accuracy score:' + str(model.score(X_test, y_test))) #recall"
   ]
  },
  {
   "cell_type": "code",
   "execution_count": 31,
   "id": "4105cb6a-8347-4aac-895b-480710a3fb61",
   "metadata": {},
   "outputs": [
    {
     "data": {
      "image/png": "[encoded data removed]",
      "text/plain": [
       "<Figure size 1000x700 with 1 Axes>"
      ]
     },
     "metadata": {},
     "output_type": "display_data"
    }
   ],
   "source": [
    "import matplotlib.pyplot as plt\n",
    "from sklearn.tree import plot_tree\n",
    "\n",
    "plt.figure(figsize=(10,7))\n",
    "plot_tree(model)\n",
    "plt.show()"
   ]
  },
  {
   "cell_type": "code",
   "execution_count": 32,
   "id": "1341f8e9-bf62-4a95-bfc8-5ff75b254c56",
   "metadata": {},
   "outputs": [
    {
     "data": {
      "image/png": "[encoded data removed]",
      "text/plain": [
       "<Figure size 2000x1000 with 1 Axes>"
      ]
     },
     "metadata": {},
     "output_type": "display_data"
    }
   ],
   "source": [
    "plt.figure(figsize=(20,10))\n",
    "plot_tree(model, max_depth=3, filled=True, feature_names=['average_temperature(℃)', 'precipitation(mm)'])\n",
    "plt.show()"
   ]
  },
  {
   "cell_type": "code",
   "execution_count": 33,
   "id": "cc794a84-b58f-4c84-8395-ba97ff4d3ae7",
   "metadata": {},
   "outputs": [
    {
     "name": "stdout",
     "output_type": "stream",
     "text": [
      "Train accuracy score: 0.8194973343488196\n",
      "Test accuracy score:0.7963525835866262\n"
     ]
    }
   ],
   "source": [
    "# 랜덤 포레스트 (결정 트리를 기반으로 배깅)\n",
    "\n",
    "model = RandomForestClassifier() \n",
    "model.fit(X_train,y_train)\n",
    "print('Train accuracy score: ' + str(model.score(X_train, y_train))) #recall\n",
    "print('Test accuracy score:' + str(model.score(X_test, y_test))) #recall"
   ]
  },
  {
   "cell_type": "code",
   "execution_count": null,
   "id": "e4c74e2e-d360-46bd-bacf-68c6be58e32c",
   "metadata": {},
   "outputs": [],
   "source": []
  },
  {
   "cell_type": "code",
   "execution_count": 34,
   "id": "cf754f27-0d18-4030-b8f6-536d624114d6",
   "metadata": {},
   "outputs": [
    {
     "name": "stdout",
     "output_type": "stream",
     "text": [
      "0.8130230619364778 0.7913011929294982\n"
     ]
    }
   ],
   "source": [
    "# 그레디언트 부스팅 회귀 트리 (결정 트리를 기반으로 부스팅)\n",
    "# 길이가 얕은 결정 트리를 사용하여 이전 트리의 예측값과 타깃값 사이의 오차를 줄이는 방향으로 새로운 트리를 추가하는 알고리즘\n",
    "# 과대적합에 강하고 일반적으로 높은 일반화 성능 기대 가능\n",
    "\n",
    "from sklearn.ensemble import GradientBoostingClassifier\n",
    "from sklearn.model_selection import cross_validate\n",
    "\n",
    "gb = GradientBoostingClassifier()\n",
    "scores = cross_validate(gb, X_train, y_train,\n",
    "                          return_train_score=True, n_jobs=1)\n",
    "print(np.mean(scores['train_score']), np.mean(scores['test_score']))"
   ]
  },
  {
   "cell_type": "code",
   "execution_count": null,
   "id": "a2c993fb-19c6-435e-97a4-91ee424c9cfb",
   "metadata": {},
   "outputs": [],
   "source": []
  },
  {
   "cell_type": "code",
   "execution_count": 35,
   "id": "52131e26-b0af-439e-b43c-2a4b3c1a8738",
   "metadata": {},
   "outputs": [
    {
     "name": "stdout",
     "output_type": "stream",
     "text": [
      "Train accuracy score: 0.8126428027418127\n",
      "Test accuracy score:0.7993920972644377\n"
     ]
    }
   ],
   "source": [
    "# XGBoosting (eXtream Gradient Boosting)\n",
    "\n",
    "from xgboost import XGBClassifier\n",
    "\n",
    "model = XGBClassifier() \n",
    "model.fit(X_train,y_train)\n",
    "print('Train accuracy score: ' + str(model.score(X_train, y_train))) #recall\n",
    "print('Test accuracy score:' + str(model.score(X_test, y_test))) #recall"
   ]
  },
  {
   "cell_type": "code",
   "execution_count": 36,
   "id": "42021182-dc50-47b8-a3ee-7b1ef0e2fcb3",
   "metadata": {},
   "outputs": [],
   "source": [
    "y_pred = model.predict(X_test)\n",
    "predictions = [round(value) for value in y_pred]"
   ]
  },
  {
   "cell_type": "code",
   "execution_count": 37,
   "id": "7e6f6aac-019f-48bf-aa8b-051017d809c6",
   "metadata": {},
   "outputs": [
    {
     "name": "stdout",
     "output_type": "stream",
     "text": [
      "Accuracy : 79.94%\n"
     ]
    }
   ],
   "source": [
    "accuracy = accuracy_score(y_test, predictions)\n",
    "print(\"Accuracy : %.2f%%\" % (accuracy * 100.0))"
   ]
  },
  {
   "cell_type": "code",
   "execution_count": 38,
   "id": "7948dddf-84c8-4cdc-903b-608f6db2f5c9",
   "metadata": {},
   "outputs": [
    {
     "data": {
      "text/plain": [
       "array([0, 0, 0, 0, 0, 1, 0])"
      ]
     },
     "execution_count": 38,
     "metadata": {},
     "output_type": "execute_result"
    }
   ],
   "source": [
    "X_test = pd.DataFrame([[11.0, 0],[10.5, 0], [12.0, 0], [12.0, 0], [13.5, 0], [13.0, 0], [11.5, 0]],columns=['온도','강수량'])\n",
    "result = model.predict(X_test)\n",
    "result"
   ]
  },
  {
   "cell_type": "code",
   "execution_count": null,
   "id": "f9af5db7-7cc0-45c8-b772-fb07f1519b54",
   "metadata": {},
   "outputs": [],
   "source": []
  },
  {
   "cell_type": "code",
   "execution_count": 39,
   "id": "e23c8a50-1231-4d8d-ab8e-5f6278a41e18",
   "metadata": {},
   "outputs": [
    {
     "name": "stdout",
     "output_type": "stream",
     "text": [
      "Requirement already satisfied: lightgbm in c:\\users\\dawn\\.conda\\envs\\hello\\lib\\site-packages (3.3.3)\n",
      "Requirement already satisfied: scikit-learn!=0.22.0 in c:\\users\\dawn\\appdata\\roaming\\python\\python38\\site-packages (from lightgbm) (1.1.3)\n",
      "Requirement already satisfied: wheel in c:\\users\\dawn\\.conda\\envs\\hello\\lib\\site-packages (from lightgbm) (0.37.1)\n",
      "Requirement already satisfied: numpy in c:\\users\\dawn\\appdata\\roaming\\python\\python38\\site-packages (from lightgbm) (1.23.4)\n",
      "Requirement already satisfied: scipy in c:\\users\\dawn\\appdata\\roaming\\python\\python38\\site-packages (from lightgbm) (1.9.3)\n",
      "Requirement already satisfied: threadpoolctl>=2.0.0 in c:\\users\\dawn\\appdata\\roaming\\python\\python38\\site-packages (from scikit-learn!=0.22.0->lightgbm) (3.1.0)\n",
      "Requirement already satisfied: joblib>=1.0.0 in c:\\users\\dawn\\appdata\\roaming\\python\\python38\\site-packages (from scikit-learn!=0.22.0->lightgbm) (1.2.0)\n",
      "Note: you may need to restart the kernel to use updated packages.\n"
     ]
    }
   ],
   "source": [
    "pip install lightgbm"
   ]
  },
  {
   "cell_type": "code",
   "execution_count": 45,
   "id": "88ea2f4b-0e5a-432f-8ca0-7caec1f599ae",
   "metadata": {},
   "outputs": [
    {
     "data": {
      "text/html": [
       "<style>#sk-container-id-2 {color: black;background-color: white;}#sk-container-id-2 pre{padding: 0;}#sk-container-id-2 div.sk-toggleable {background-color: white;}#sk-container-id-2 label.sk-toggleable__label {cursor: pointer;display: block;width: 100%;margin-bottom: 0;padding: 0.3em;box-sizing: border-box;text-align: center;}#sk-container-id-2 label.sk-toggleable__label-arrow:before {content: \"▸\";float: left;margin-right: 0.25em;color: #696969;}#sk-container-id-2 label.sk-toggleable__label-arrow:hover:before {color: black;}#sk-container-id-2 div.sk-estimator:hover label.sk-toggleable__label-arrow:before {color: black;}#sk-container-id-2 div.sk-toggleable__content {max-height: 0;max-width: 0;overflow: hidden;text-align: left;background-color: #f0f8ff;}#sk-container-id-2 div.sk-toggleable__content pre {margin: 0.2em;color: black;border-radius: 0.25em;background-color: #f0f8ff;}#sk-container-id-2 input.sk-toggleable__control:checked~div.sk-toggleable__content {max-height: 200px;max-width: 100%;overflow: auto;}#sk-container-id-2 input.sk-toggleable__control:checked~label.sk-toggleable__label-arrow:before {content: \"▾\";}#sk-container-id-2 div.sk-estimator input.sk-toggleable__control:checked~label.sk-toggleable__label {background-color: #d4ebff;}#sk-container-id-2 div.sk-label input.sk-toggleable__control:checked~label.sk-toggleable__label {background-color: #d4ebff;}#sk-container-id-2 input.sk-hidden--visually {border: 0;clip: rect(1px 1px 1px 1px);clip: rect(1px, 1px, 1px, 1px);height: 1px;margin: -1px;overflow: hidden;padding: 0;position: absolute;width: 1px;}#sk-container-id-2 div.sk-estimator {font-family: monospace;background-color: #f0f8ff;border: 1px dotted black;border-radius: 0.25em;box-sizing: border-box;margin-bottom: 0.5em;}#sk-container-id-2 div.sk-estimator:hover {background-color: #d4ebff;}#sk-container-id-2 div.sk-parallel-item::after {content: \"\";width: 100%;border-bottom: 1px solid gray;flex-grow: 1;}#sk-container-id-2 div.sk-label:hover label.sk-toggleable__label {background-color: #d4ebff;}#sk-container-id-2 div.sk-serial::before {content: \"\";position: absolute;border-left: 1px solid gray;box-sizing: border-box;top: 0;bottom: 0;left: 50%;z-index: 0;}#sk-container-id-2 div.sk-serial {display: flex;flex-direction: column;align-items: center;background-color: white;padding-right: 0.2em;padding-left: 0.2em;position: relative;}#sk-container-id-2 div.sk-item {position: relative;z-index: 1;}#sk-container-id-2 div.sk-parallel {display: flex;align-items: stretch;justify-content: center;background-color: white;position: relative;}#sk-container-id-2 div.sk-item::before, #sk-container-id-2 div.sk-parallel-item::before {content: \"\";position: absolute;border-left: 1px solid gray;box-sizing: border-box;top: 0;bottom: 0;left: 50%;z-index: -1;}#sk-container-id-2 div.sk-parallel-item {display: flex;flex-direction: column;z-index: 1;position: relative;background-color: white;}#sk-container-id-2 div.sk-parallel-item:first-child::after {align-self: flex-end;width: 50%;}#sk-container-id-2 div.sk-parallel-item:last-child::after {align-self: flex-start;width: 50%;}#sk-container-id-2 div.sk-parallel-item:only-child::after {width: 0;}#sk-container-id-2 div.sk-dashed-wrapped {border: 1px dashed gray;margin: 0 0.4em 0.5em 0.4em;box-sizing: border-box;padding-bottom: 0.4em;background-color: white;}#sk-container-id-2 div.sk-label label {font-family: monospace;font-weight: bold;display: inline-block;line-height: 1.2em;}#sk-container-id-2 div.sk-label-container {text-align: center;}#sk-container-id-2 div.sk-container {/* jupyter's `normalize.less` sets `[hidden] { display: none; }` but bootstrap.min.css set `[hidden] { display: none !important; }` so we also need the `!important` here to be able to override the default hidden behavior on the sphinx rendered scikit-learn.org. See: https://github.com/scikit-learn/scikit-learn/issues/21755 */display: inline-block !important;position: relative;}#sk-container-id-2 div.sk-text-repr-fallback {display: none;}</style><div id=\"sk-container-id-2\" class=\"sk-top-container\"><div class=\"sk-text-repr-fallback\"><pre>LGBMClassifier()</pre><b>In a Jupyter environment, please rerun this cell to show the HTML representation or trust the notebook. <br />On GitHub, the HTML representation is unable to render, please try loading this page with nbviewer.org.</b></div><div class=\"sk-container\" hidden><div class=\"sk-item\"><div class=\"sk-estimator sk-toggleable\"><input class=\"sk-toggleable__control sk-hidden--visually\" id=\"sk-estimator-id-2\" type=\"checkbox\" checked><label for=\"sk-estimator-id-2\" class=\"sk-toggleable__label sk-toggleable__label-arrow\">LGBMClassifier</label><div class=\"sk-toggleable__content\"><pre>LGBMClassifier()</pre></div></div></div></div></div>"
      ],
      "text/plain": [
       "LGBMClassifier()"
      ]
     },
     "execution_count": 45,
     "metadata": {},
     "output_type": "execute_result"
    }
   ],
   "source": [
    "# lightgbm !!!!\n",
    "\n",
    "# build the lightgbm model\n",
    "import lightgbm as lgb\n",
    "clf = lgb.LGBMClassifier()\n",
    "clf.fit(X_train, y_train)"
   ]
  },
  {
   "cell_type": "code",
   "execution_count": 46,
   "id": "e18121de-6a42-43b9-8712-ca7cc2510be4",
   "metadata": {},
   "outputs": [],
   "source": [
    "# predict the results\n",
    "#y_pred=clf.predict(X_test)"
   ]
  },
  {
   "cell_type": "code",
   "execution_count": 49,
   "id": "4fe4e585-2178-41ea-99f0-dcfd93eb7c81",
   "metadata": {},
   "outputs": [],
   "source": [
    "# view accuracy\n",
    "#from sklearn.metrics import accuracy_score\n",
    "#accuracy=accuracy_score(y_pred, y_test)\n",
    "#print('LightGBM Model accuracy score: {0:0.4f}'.format(accuracy_score(y_test, y_pred)))"
   ]
  },
  {
   "cell_type": "code",
   "execution_count": 50,
   "id": "39941e87-07cc-423c-891d-d9505146fd85",
   "metadata": {},
   "outputs": [],
   "source": [
    "#from sklearn.metrics import accuracy_score, recall_score, f1_score, precision_score, roc_auc_score\n",
    "#from sklearn.metrics import confusion_matrix\n",
    "\n",
    "#def get_clf_eval(y_test, y_pred):\n",
    "    #confusion = confusion_matrix(y_test, y_pred)\n",
    "    #accurary = accuracy_score(y_test, y_pred)\n",
    "    #precision = precision_score(y_test, y_pred)\n",
    "    #recall = recall_score(y_test, y_pred)\n",
    "    #F1 = f1_score(y_test, y_pred)\n",
    "    #AUC = roc_auc_score(y_test, y_pred)\n",
    "    \n",
    "    #print('LIGHTGBM')\n",
    "    #print('오차행렬 :\\n', confusion)\n",
    "    #print('\\n정확도 : {:.4f}'.format(accuracy))\n",
    "    #print('정밀도 : {:.4f}'.format(precision))\n",
    "    #print('재현율 : {:.4f}'.format(recall))\n",
    "    #print('F1 : {:.4f}'.format(F1))\n",
    "    #print('roc_auc_score : {:.4f}'.format(AUC))"
   ]
  },
  {
   "cell_type": "code",
   "execution_count": 52,
   "id": "c93eb5c7-c035-4895-8dce-2d4641202643",
   "metadata": {},
   "outputs": [],
   "source": [
    "#get_clf_eval(y_test, y_pred)"
   ]
  },
  {
   "cell_type": "code",
   "execution_count": null,
   "id": "43934574-b156-4856-aec2-aa30e956cb16",
   "metadata": {},
   "outputs": [],
   "source": [
    "#y_pred_train = clf.predict(X_train)"
   ]
  },
  {
   "cell_type": "code",
   "execution_count": null,
   "id": "e28146bf-498f-400b-81d2-5ac4228391c9",
   "metadata": {},
   "outputs": [],
   "source": [
    "#print('Training-set accuracy score: {0:0.4f}'. format(accuracy_score(y_train, y_pred_train)))"
   ]
  },
  {
   "cell_type": "code",
   "execution_count": null,
   "id": "44bfc32b-c01c-4f75-8a30-c5572b69cb1c",
   "metadata": {},
   "outputs": [],
   "source": [
    "# print the scores on training and test set\n",
    "\n",
    "#print('lightgbm Training set score: {:.4f}'.format(clf.score(X_train, y_train)))\n",
    "\n",
    "#print('lightgbm Test set score: {:.4f}'.format(clf.score(X_test, y_test)))"
   ]
  },
  {
   "cell_type": "code",
   "execution_count": null,
   "id": "17a4e334-63f8-4d57-8af9-b1a1a116aea6",
   "metadata": {},
   "outputs": [],
   "source": [
    "#from sklearn.metrics import classification_report\n",
    "#print(classification_report(y_test, y_pred))"
   ]
  }
 ],
 "metadata": {
  "kernelspec": {
   "display_name": "Python 3 (ipykernel)",
   "language": "python",
   "name": "python3"
  },
  "language_info": {
   "codemirror_mode": {
    "name": "ipython",
    "version": 3
   },
   "file_extension": ".py",
   "mimetype": "text/x-python",
   "name": "python",
   "nbconvert_exporter": "python",
   "pygments_lexer": "ipython3",
   "version": "3.8.13"
  }
 },
 "nbformat": 4,
 "nbformat_minor": 5
}
